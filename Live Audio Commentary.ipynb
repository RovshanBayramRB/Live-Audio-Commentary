{
 "cells": [
  {
   "cell_type": "markdown",
   "metadata": {},
   "source": [
    "# Part 1\n",
    "\n",
    "Reading the Scientific article and Recording voice so that we can have audio data to be used in further stages."
   ]
  },
  {
   "cell_type": "markdown",
   "metadata": {},
   "source": [
    "# Part 2\n",
    "\n",
    "Vizualizing and Analyzing the Audio File"
   ]
  },
  {
   "cell_type": "code",
   "execution_count": 1,
   "metadata": {},
   "outputs": [],
   "source": [
    "#Importing Necessary Libraries\n",
    "import numpy as np\n",
    "import matplotlib.pyplot as plt\n",
    "from IPython.display import Audio\n",
    "from scipy.io import wavfile"
   ]
  },
  {
   "cell_type": "code",
   "execution_count": 2,
   "metadata": {},
   "outputs": [],
   "source": [
    "#Loading the file on an object\n",
    "AudioFile = wavfile.read(\"Article.wav\")"
   ]
  },
  {
   "cell_type": "code",
   "execution_count": 3,
   "metadata": {},
   "outputs": [],
   "source": [
    "#Separeting the object elements\n",
    "FrameRate = AudioFile[0]\n",
    "SoundData = AudioFile[1]"
   ]
  },
  {
   "cell_type": "code",
   "execution_count": 4,
   "metadata": {},
   "outputs": [
    {
     "data": {
      "image/png": "[encoded data removed]",
      "text/plain": [
       "<Figure size 432x288 with 1 Axes>"
      ]
     },
     "metadata": {
      "needs_background": "light"
     },
     "output_type": "display_data"
    }
   ],
   "source": [
    "#Vizualizing the Audio file\n",
    "t = np.linspace(0, len(SoundData)/FrameRate, len(SoundData))\n",
    "plt.plot(t, SoundData)\n",
    "plt.show()"
   ]
  },
  {
   "cell_type": "markdown",
   "metadata": {},
   "source": [
    "**Analyzing Audio File**\n",
    "\n",
    "As we see, we have 2 different colors in our plot. It is because of the recording type of the audio. It has 2 dimensions in each entry of SoundData that makes plot have two different colors. However, such cases does not make any problem for playing or vizualizing the audio as you see."
   ]
  },
  {
   "cell_type": "markdown",
   "metadata": {},
   "source": [
    "# Part 3\n",
    "\n",
    "Creating Graphical User Interface for users to add comments on audio file when it is playing"
   ]
  },
  {
   "cell_type": "code",
   "execution_count": 3,
   "metadata": {},
   "outputs": [],
   "source": [
    "#Creating the initial json file\n",
    "import json"
   ]
  },
  {
   "cell_type": "code",
   "execution_count": 6,
   "metadata": {},
   "outputs": [],
   "source": [
    "#Opening new json file in write mode\n",
    "JSONFile = open(\"AudioJson.json\", \"w\")\n",
    "#Creating some random data to it so that when we read it, the file has a already dictionary in it. It will help us easily \n",
    "#store seconds/minutes as keys and comments as values.\n",
    "dictionary = {\" \" : 2}\n",
    "#Adding the dictionary to newly created json file\n",
    "json.dump(dictionary, JSONFile, indent = 6)\n",
    "\n",
    "#NOTE: DO NOT Run this cell unless you want clear the json file and bring it to its initial situation."
   ]
  },
  {
   "cell_type": "code",
   "execution_count": 1,
   "metadata": {
    "scrolled": true
   },
   "outputs": [
    {
     "name": "stdout",
     "output_type": "stream",
     "text": [
      "pygame 2.1.0 (SDL 2.0.16, Python 3.8.3)\n",
      "Hello from the pygame community. https://www.pygame.org/contribute.html\n"
     ]
    }
   ],
   "source": [
    "from tkinter import *\n",
    "import numpy as np\n",
    "import matplotlib.pyplot as plt\n",
    "from IPython.display import Audio\n",
    "from scipy.io import wavfile\n",
    "from pygame import mixer\n",
    "import matplotlib\n",
    "matplotlib.use('TkAgg')\n",
    "from matplotlib.backends.backend_tkagg import FigureCanvasTkAgg\n",
    "from matplotlib.figure import Figure\n",
    "import pygame\n",
    "import json\n",
    "\n",
    "#Creating the AUDIO class. Most of the processes of the project happen here.\n",
    "class AUDIO:\n",
    "    #Creating constructor of the class. Here, we initialize lots of buttons, labels, and also the window itself.\n",
    "    def __init__(self, window):\n",
    "        #Initializing window\n",
    "        self.window = window\n",
    "        #Initializing button to graph the plot of the audio and locate=ing it using grid\n",
    "        self.graphit = Button(window, text = \"Graph Audio\", command = self.graph)\n",
    "        self.graphit.grid(row = 0, column = 0, pady = 10)\n",
    "        #Initializing play and stop audio button and locating them using grid\n",
    "        self.playAudio = Button(window, text = \"Initialize and Play Audio\", command = self.initializePlay)\n",
    "        self.playAudio.grid(row = 0, column = 1, pady = 10, padx = 148)\n",
    "        self.stopAudio = Button(window, text = \"Stop and Initialize Audio\", command = self.initializeStop)\n",
    "        self.stopAudio.grid(row = 1, column = 1, pady = 10, padx = 148)\n",
    "        #Initializing pause and unpause button and locating them by grid\n",
    "        self.pause = Button(window, text = \"Pause Audio\", command = self.pause)\n",
    "        self.pause.grid(row = 0, column = 2, pady = 10)\n",
    "        self.unpause = Button(window, text = \"Unpause Audio\", command = self.unpause)\n",
    "        self.unpause.grid(row = 1, column = 2, pady = 10)\n",
    "        #Next, we initialize comment entry for user to enter his/her comment\n",
    "        self.commentEntry = Entry(window, width = 30)\n",
    "        self.commentEntry.grid(row = 2, column = 1, pady = 10)\n",
    "        #Initially, we make this entry disabled so that we can enable it manually and stop everything while commenting\n",
    "        self.commentEntry.config(state = 'disabled')\n",
    "        #Binding button for comment entry and locating it\n",
    "        self.controlEntry = Button(window, text = \"Comment\", command = self.buttonFunctionClick)\n",
    "        self.controlEntry.grid(row = 3, column = 1, pady = 10)\n",
    "        #Binding \"Enter\" keyboard to the same entry comment so that we can comment both by enter keyword and also clicking on the button itself\n",
    "        self.window.bind('<Return>', self.buttonFunctionKey)\n",
    "        #Creating button to disable/enable comment comment entry and locating it.\n",
    "        self.wantComment = Button(window, text = \"Press for Comment\", command = self.makeNormalEntry)\n",
    "        self.wantComment.grid(row = 1, column = 0)\n",
    "        #Creating button to store comments in json file and locating it\n",
    "        self.storeComments = Button(window, text = \"Store Comments\", command = self.storeComment)\n",
    "        self.storeComments.grid(row = 3, column = 0)\n",
    "        #Creating label for displaying the comments. Below, this label will be changed by the comments and then we locate it using grid function\n",
    "        self.label = Label(window, text = \"Comments are Here\")\n",
    "        self.label.grid(row = 5, column = 1)\n",
    "        #Creating two different boolean data types. These data types will control pausing/unpausing, displaying/nondisplaying\n",
    "        #comments, etc.\n",
    "        self.stateAudio = False\n",
    "        self.commentState = False\n",
    "        #Setting initial value to current_time which will later be changed and replaced with the ecaxt time of the audio. It\n",
    "        #will help us store comments based on minutes or seconds.\n",
    "        self.current_time = 0\n",
    "        #Opening, reading, and closing json file. The content of the json file will be located in self.dict\n",
    "        self.fileRead = open(\"AudioJson.json\", \"r\")\n",
    "        self.dict = json.load(self.fileRead)\n",
    "        self.fileRead.close()\n",
    "        self.fileNew = open(\"AudioJson.json\", \"r\")\n",
    "        self.newDict = json.load(self.fileNew)\n",
    "        self.fileNew.close()\n",
    "        #Initializing the mixer which is our audio player/stopper/pauser/unpauser\n",
    "        mixer.init()\n",
    "        #Loading the audio to mixer\n",
    "        mixer.music.load('Article.wav')\n",
    "    \n",
    "    #Function for checking whether the audio is ended or not\n",
    "    def checker(self):\n",
    "        if not mixer.music.get_busy():\n",
    "            self.stateAudio = False\n",
    "        else:\n",
    "            self.stateAudio = True\n",
    "    \n",
    "    #Function to draw the graph of the audio file\n",
    "    def graph(self):\n",
    "        #Reading the audio file\n",
    "        AudioFile = wavfile.read(\"Article.wav\")\n",
    "        #Extracting frame rate and sound data of the read file\n",
    "        FrameRate = AudioFile[0]\n",
    "        SoundData = AudioFile[1]\n",
    "        #Creating the x-axis for plotting\n",
    "        t = np.linspace(0, SoundData.shape[0]/FrameRate, SoundData.shape[0])\n",
    "        #Creating figure for plotting\n",
    "        fig = plt.Figure(figsize = (6, 3))\n",
    "        #Adding subplot to it\n",
    "        a = fig.add_subplot(111)\n",
    "        #Plotting the data\n",
    "        a.plot(t, SoundData)\n",
    "        #Creating our canvas in the window\n",
    "        canvas = FigureCanvasTkAgg(fig, master = self.window)\n",
    "        #Locating using grid and drawing it.\n",
    "        canvas.get_tk_widget().grid(row = 4, column = 1)\n",
    "        canvas.draw()\n",
    "    \n",
    "    #Function for loading json file in write format which is used to store new comments.\n",
    "    def storeComment(self):\n",
    "        #Open json file in write mode\n",
    "        fileWrite = open(\"AudioJson.json\", \"w\")\n",
    "        #Dumping new comments with the old ones to the json file\n",
    "        json.dump(self.newDict, fileWrite, indent = 6)\n",
    "        #Closing the json file\n",
    "        fileWrite.close()\n",
    "    \n",
    "    #This function will help us display the comments while playing the audio\n",
    "    def displayComment(self):\n",
    "        #We set some conditions to while loop which are as long as the audio is on and comment is not inten\n",
    "        while mixer.music.get_busy():# and not self.commentState:\n",
    "            #Iterate over dictionary keys which are the second/minutes of the audio that comments added\n",
    "            for i in self.dict.keys():\n",
    "                #Getting rid of manually creating data\n",
    "                if i == \" \":\n",
    "                    continue\n",
    "                #Checking if the minute in dictionary keys corresponds to some intervare in position audio\n",
    "                elif (mixer.music.get_pos() - 30) <= int(i) and (mixer.music.get_pos() + 30) >= int(i):\n",
    "                    #If above condition satisfies, or finds proper comment on some interval. We set new label which are \n",
    "                    #the comments\n",
    "                    self.label.config(text = self.dict[i])\n",
    "                    #And, updating the window to one by one vizualize the comments\n",
    "                    window.update()\n",
    "    \n",
    "    #Function to initialize and stop the audio playing\n",
    "    def initializePlay(self):\n",
    "        #Playinh the music\n",
    "        mixer.music.play()\n",
    "        #Calling the displayComment function to show the already written comments while playing the audio\n",
    "        self.displayComment()\n",
    "        #Setting the State of the Audio to True which means audio is on\n",
    "        self.stateAudio = True\n",
    "    \n",
    "    #Function to initialize and stop the audio playing\n",
    "    def initializeStop(self):\n",
    "        #Using mixer to stop the audio\n",
    "        mixer.music.stop()\n",
    "        #And, setting the State of the Audio to False which means audio is no longer on\n",
    "        self.stateAudio = False\n",
    "    \n",
    "    #Function to pause the audio\n",
    "    def pause(self):\n",
    "        #Using mixer to pause the audio\n",
    "        mixer.music.pause()\n",
    "    \n",
    "    #Function to unpause the audio\n",
    "    def unpause(self):\n",
    "        #Using mixer to unpause the audio\n",
    "        mixer.music.unpause()\n",
    "        #Setting State of the Audio to True because when we pause the audio get_busy() (Function that shows if the audio is \n",
    "        #ended or not) function is turned to False which is not desirable because we did not finish the audio just paused.\n",
    "        self.stateAudio = True\n",
    "        #Calling the displayComment function to show the already written comments while playing the audio\n",
    "        self.displayComment()\n",
    "    \n",
    "    #It is the function of \"Press for comment\" button for Clicking\n",
    "    def buttonFunctionClick(self):\n",
    "        #Getting the text from the entry\n",
    "        text = self.commentEntry.get()\n",
    "        #Adding it as a value to dictionary with the exact time as a key\n",
    "        self.newDict[self.current_time] = text\n",
    "        #Clearing the comment entry\n",
    "        self.commentEntry.delete(0, END)\n",
    "        #Then we set the state of the comment to False so that we continue to play the audio\n",
    "        self.commentState = False\n",
    "        #Unpausing the audio so that further comments are also acceptable\n",
    "        mixer.music.unpause()\n",
    "        #Calling the displayComment function to show the already written comments while playing the audio\n",
    "        self.displayComment()\n",
    "        #Disabling the comment entry\n",
    "        self.commentEntry.config(state = 'disabled')\n",
    "        return None\n",
    "    \n",
    "    #Again, It is the function of \"Press for comment\" button but for Enter key\n",
    "    def buttonFunctionKey(self, event):\n",
    "        #Getting the text from the entry\n",
    "        text = self.commentEntry.get()\n",
    "        #Adding it as a value to dictionary with the exact time as a key\n",
    "        self.newDict[self.current_time] = text\n",
    "        #Clearing the comment entry\n",
    "        self.commentEntry.delete(0, END)\n",
    "        #Then we set the state of the comment to False so that we continue to play the audio\n",
    "        #self.commentState = False\n",
    "        #Unpausing the audio so that further comments are also acceptable\n",
    "        mixer.music.unpause()\n",
    "        self.commentEntry.config(state = 'disabled')\n",
    "        #Calling the displayComment function to show the already written comments while playing the audio\n",
    "        self.displayComment()        \n",
    "        return None\n",
    "    \n",
    "    #Function for making entry normal which we can comment on it\n",
    "    def makeNormalEntry(self):\n",
    "        #Changing state of the comment so that we can add comment\n",
    "        #self.commentState = True\n",
    "        #Calling checker function to check whether it the end of the audio or not\n",
    "        self.checker()\n",
    "        #If state of the audio is true\n",
    "        if self.stateAudio:\n",
    "            #Enable the comment entry\n",
    "            self.commentEntry.config(state = 'normal')\n",
    "            #Pausing the audio so that while we add a comment, we do not miss any further part of the audio\n",
    "            mixer.music.pause()\n",
    "            #When we pause, we need to get the exact time where we paused the audio to store the comment to corresponding\n",
    "            #second or minute\n",
    "            self.current_time = mixer.music.get_pos()\n",
    "\n",
    "#Creating the tkinter window\n",
    "window = Tk()\n",
    "#Setting the title\n",
    "window.title(\"AUDIO\")\n",
    "#Setting dimension of the window\n",
    "window.geometry(\"700x500\")\n",
    "#Creating object from AUDIO class\n",
    "AudioObject = AUDIO(window)\n",
    "#Displaying the window\n",
    "window.mainloop()"
   ]
  },
  {
   "cell_type": "code",
   "execution_count": null,
   "metadata": {},
   "outputs": [],
   "source": []
  }
 ],
 "metadata": {
  "kernelspec": {
   "display_name": "Python 3",
   "language": "python",
   "name": "python3"
  },
  "language_info": {
   "codemirror_mode": {
    "name": "ipython",
    "version": 3
   },
   "file_extension": ".py",
   "mimetype": "text/x-python",
   "name": "python",
   "nbconvert_exporter": "python",
   "pygments_lexer": "ipython3",
   "version": "3.8.3"
  }
 },
 "nbformat": 4,
 "nbformat_minor": 4
}
